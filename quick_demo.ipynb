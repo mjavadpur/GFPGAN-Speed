{
  "cells": [
    {
      "cell_type": "markdown",
      "metadata": {},
      "source": [
        "I ran it on colab, but unfortunately the speed of normal mode was much better (mj 14021001)\n",
        "متاسفانه از multithreading و multiprocessing نتوانستم جواب بگیرم و هر کدام خطای مخصوص خودش را داشت.\n",
        "این خطای mutiprocessing بود:\n",
        "AttributeError: Can't pickle local object 'ReluLayer.__init__.<locals>.<lambda>'\n",
        "[W CudaIPCTypes.cpp:95] Producer process tried to deallocate over 1000 memory blocks referred by consumer processes. Deallocation might be significantly slowed down. We assume it will never going to be the case, but if it is, please file but to https://github.com/pytorch/pytorch\n",
        "[W CudaIPCTypes.cpp:15] Producer process has been terminated before all shared CUDA tensors released. See Note [Sharing CUDA tensors]\n",
        "\n",
        "\n",
        "multithreading هم به نظر می آمد که اطلاعات عکس ها را قاطی می کرد و در ادامه فرآیند ابعاد تنسورها همخوانی نداشت.\n",
        "self.output[:, :, output_start_y:output_end_y,\n",
        "RuntimeError: The expanded size of the tensor (0) must match the existing size (768) at non-singleton dimension 3.  Target sizes: [1, 3, 800, 0].  Tensor sizes: [3, 800, 768]\n",
        "\n",
        "راه حل این است که در هر thread یا process مدل نیز دوباره نمونه گیری شود و این خود باعث افزایش استفاده از حافظه و افزایش زمان پردازش می شود."
      ]
    },
    {
      "cell_type": "code",
      "execution_count": null,
      "metadata": {
        "id": "qJ4CplXsYl_E"
      },
      "outputs": [],
      "source": [
        "### make sure that CUDA is available in Edit -> Nootbook settings -> GPU\n",
        "!nvidia-smi --query-gpu=name,memory.total,memory.free --format=csv,noheader"
      ]
    },
    {
      "cell_type": "code",
      "execution_count": null,
      "metadata": {
        "id": "Mdq6j4E5KQAR"
      },
      "outputs": [],
      "source": [
        "\n",
        "print('Git clone project and install requirements...')\n",
        "!git clone https://github.com/mjavadpur/GFPGAN-Speed &> /dev/null\n",
        "%cd GFPGAN-Speed\n",
        "!export PYTHONPATH=/content/GFPGAN-Speed:$PYTHONPATH\n",
        "!pip install -r requirements.txt\n"
      ]
    },
    {
      "cell_type": "code",
      "execution_count": null,
      "metadata": {},
      "outputs": [],
      "source": [
        "!python inference_gfpgan_normal.py\n"
      ]
    },
    {
      "cell_type": "code",
      "execution_count": null,
      "metadata": {},
      "outputs": [],
      "source": [
        "!python inference_gfpgan.py\n"
      ]
    }
  ],
  "metadata": {
    "accelerator": "GPU",
    "colab": {
      "provenance": []
    },
    "gpuClass": "standard",
    "kernelspec": {
      "display_name": "base",
      "language": "python",
      "name": "python3"
    },
    "language_info": {
      "name": "python",
      "version": "3.9.7"
    },
    "vscode": {
      "interpreter": {
        "hash": "db5031b3636a3f037ea48eb287fd3d023feb9033aefc2a9652a92e470fb0851b"
      }
    }
  },
  "nbformat": 4,
  "nbformat_minor": 0
}
